{
 "cells": [
  {
   "cell_type": "code",
   "execution_count": null,
   "metadata": {
    "tags": [
     "parameters"
    ]
   },
   "outputs": [],
   "source": [
    "settings = {\n",
    "    \"dimensions\": {\n",
    "        \"x\": \"A\",\n",
    "        \"y\": \"B\",\n",
    "    }\n",
    "}"
   ]
  },
  {
   "cell_type": "code",
   "execution_count": null,
   "metadata": {},
   "outputs": [],
   "source": [
    "from multiversum import Universe\n",
    "\n",
    "universe = Universe(\n",
    "    settings=settings,\n",
    ")\n",
    "\n",
    "# Get the parsed universe settings\n",
    "dimensions = universe.dimensions"
   ]
  },
  {
   "cell_type": "code",
   "execution_count": null,
   "metadata": {},
   "outputs": [],
   "source": [
    "import pandas as pd\n",
    "\n",
    "final_data = pd.DataFrame({\"value\": [ord(dimensions[\"x\"]) + ord(dimensions[\"y\"])]})"
   ]
  },
  {
   "cell_type": "code",
   "execution_count": null,
   "metadata": {},
   "outputs": [],
   "source": [
    "if dimensions[\"x\"] == dimensions[\"y\"]:\n",
    "    raise ValueError(\"The dimensions must not be the same\")"
   ]
  },
  {
   "cell_type": "code",
   "execution_count": null,
   "metadata": {},
   "outputs": [],
   "source": [
    "universe.save_data(final_data)"
   ]
  }
 ],
 "metadata": {
  "kernelspec": {
   "display_name": "venv",
   "language": "python",
   "name": "python3"
  },
  "language_info": {
   "name": "python",
   "version": "3.13.0"
  }
 },
 "nbformat": 4,
 "nbformat_minor": 2
}
